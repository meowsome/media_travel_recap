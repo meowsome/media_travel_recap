{
 "cells": [
  {
   "cell_type": "code",
   "execution_count": null,
   "metadata": {},
   "outputs": [],
   "source": [
    "import requests\n",
    "import os\n",
    "import pandas as pd\n",
    "import numpy as np\n",
    "from geopy.distance import geodesic\n",
    "import plotly.express as px"
   ]
  },
  {
   "cell_type": "code",
   "execution_count": null,
   "metadata": {},
   "outputs": [],
   "source": [
    "base_url = os.getenv(\"IMMICH_BASE_URL\")\n",
    "token = os.getenv(\"IMMICH_TOKEN\")\n",
    "year = os.getenv(\"YEAR\")\n",
    "start_date = f\"{year}-01-01\"\n",
    "end_date = f\"{year}-12-31\"\n",
    "\n",
    "headers = {\"x-api-key\": token}\n",
    "body = {\n",
    "    \"takenAfter\": start_date,\n",
    "    \"takenBefore\": end_date,\n",
    "    \"withExif\": \"true\",\n",
    "    \"size\": 1000\n",
    "}\n",
    "all_photos_found = False\n",
    "page = 0\n",
    "all_photos = []"
   ]
  },
  {
   "cell_type": "code",
   "execution_count": null,
   "metadata": {},
   "outputs": [],
   "source": [
    "# Loop thru photos cuz you can only fetch 1000 at a time\n",
    "while not all_photos_found:\n",
    "    if page > 0:\n",
    "        body[\"page\"] = page\n",
    "\n",
    "    response = requests.request(\"POST\", f\"{base_url}/api/search/metadata\", headers=headers, data=body)\n",
    "    if response.status_code == 200:\n",
    "        photos = response.json()\n",
    "        print(f\"{photos['assets']['total']} photos found\")\n",
    "        all_photos += photos['assets']['items']\n",
    "\n",
    "        next_page = photos['assets']['nextPage']\n",
    "        if next_page:\n",
    "            print(f\"next page: {next_page}\")\n",
    "            page = int(next_page)\n",
    "        else:\n",
    "            all_photos_found = True\n",
    "    else:\n",
    "        print(f\"Error: {response.status_code}: {response.text}\")\n",
    "        all_photos_found = True"
   ]
  },
  {
   "cell_type": "code",
   "execution_count": null,
   "metadata": {},
   "outputs": [],
   "source": [
    "photos_with_metadata = [photo for photo in all_photos if photo['exifInfo']['latitude'] != None]"
   ]
  },
  {
   "cell_type": "code",
   "execution_count": null,
   "metadata": {},
   "outputs": [],
   "source": [
    "df = pd.DataFrame(photos_with_metadata)"
   ]
  },
  {
   "cell_type": "code",
   "execution_count": null,
   "metadata": {},
   "outputs": [],
   "source": [
    "exif_cols = pd.json_normalize(df.exifInfo)\n",
    "df[exif_cols.columns] = exif_cols"
   ]
  },
  {
   "cell_type": "code",
   "execution_count": null,
   "metadata": {},
   "outputs": [],
   "source": [
    "df.columns"
   ]
  },
  {
   "cell_type": "code",
   "execution_count": null,
   "metadata": {},
   "outputs": [],
   "source": [
    "filtered_df = df[['fileCreatedAt', 'latitude', 'longitude', 'city', 'state', 'country']].iloc[::-1]"
   ]
  },
  {
   "cell_type": "code",
   "execution_count": null,
   "metadata": {},
   "outputs": [],
   "source": [
    "filtered_df['prev_latitude'] = [np.nan] + list(filtered_df['latitude'])[:-1]\n",
    "filtered_df['prev_longitude'] = [np.nan] + list(filtered_df['longitude'])[:-1]"
   ]
  },
  {
   "cell_type": "code",
   "execution_count": null,
   "metadata": {},
   "outputs": [],
   "source": [
    "filtered_df"
   ]
  },
  {
   "cell_type": "code",
   "execution_count": null,
   "metadata": {},
   "outputs": [],
   "source": [
    "filtered_df['distance_from_prev'] = filtered_df.apply(lambda point: geodesic((point['latitude'], point['longitude']), (point['prev_latitude'], point['prev_longitude'])).km if np.isfinite(point['prev_latitude']) else 0, axis=1)"
   ]
  },
  {
   "cell_type": "code",
   "execution_count": null,
   "metadata": {},
   "outputs": [],
   "source": [
    "final_df = filtered_df[filtered_df['distance_from_prev'] > 70]"
   ]
  },
  {
   "cell_type": "code",
   "execution_count": null,
   "metadata": {},
   "outputs": [],
   "source": [
    "final_df"
   ]
  },
  {
   "cell_type": "code",
   "execution_count": null,
   "metadata": {},
   "outputs": [],
   "source": [
    "unique_cities = final_df.groupby(['city', 'state']).ngroups\n",
    "unique_states = final_df['state'].nunique()\n",
    "unique_countries = final_df['country'].nunique()\n",
    "total_distance_traveled = round(final_df['distance_from_prev'].sum(), 2)\n",
    "most_common_state = final_df['state'].mode()"
   ]
  },
  {
   "cell_type": "code",
   "execution_count": null,
   "metadata": {},
   "outputs": [],
   "source": [
    "print(f\"{year} Stats\")\n",
    "print(f\"{unique_cities} unique cities\")\n",
    "print(f\"{unique_states} unique states\")\n",
    "print(f\"{unique_countries} unique countries\")\n",
    "print(f\"{total_distance_traveled}km total distance traveled\")\n",
    "print(f\"{most_common_state} is the most visited state\")"
   ]
  },
  {
   "cell_type": "code",
   "execution_count": null,
   "metadata": {},
   "outputs": [],
   "source": [
    "# Create plain text date col\n",
    "final_df['date_string'] = pd.to_datetime(final_df['fileCreatedAt'])\n",
    "final_df['date_string'] = final_df['date_string'].dt.strftime(\"%B %Y\")"
   ]
  },
  {
   "cell_type": "code",
   "execution_count": null,
   "metadata": {},
   "outputs": [],
   "source": [
    "final_df[['latitude', 'longitude', 'city', 'state', 'country', 'date_string']].to_csv(\"export.csv\", index=False)"
   ]
  },
  {
   "cell_type": "code",
   "execution_count": null,
   "metadata": {},
   "outputs": [],
   "source": [
    "i = 0\n",
    "group = 0\n",
    "animated_json = {'latitude': [], 'longitude': [], 'fileCreatedAt': [], 'city': [], 'state': [], 'country': [], 'group': []}\n",
    "for index, row in final_df.iterrows():\n",
    "    animated_json['latitude'].append(row['latitude'])\n",
    "    animated_json['longitude'].append(row['longitude'])\n",
    "    animated_json['fileCreatedAt'].append(row['fileCreatedAt'])\n",
    "    animated_json['city'].append(row['city'])\n",
    "    animated_json['state'].append(row['state'])\n",
    "    animated_json['country'].append(row['country'])\n",
    "    animated_json['group'].append(group)\n",
    "\n",
    "    if i > 0 and i < len(final_df) - 1:\n",
    "        group+=1\n",
    "        animated_json['latitude'].append(row['latitude'])\n",
    "        animated_json['longitude'].append(row['longitude'])\n",
    "        animated_json['fileCreatedAt'].append(row['fileCreatedAt'])\n",
    "        animated_json['city'].append(row['city'])\n",
    "        animated_json['state'].append(row['state'])\n",
    "        animated_json['country'].append(row['country'])\n",
    "        animated_json['group'].append(group)\n",
    "\n",
    "    i+=1\n",
    "    \n"
   ]
  },
  {
   "cell_type": "code",
   "execution_count": null,
   "metadata": {},
   "outputs": [],
   "source": [
    "animated_df = pd.DataFrame(animated_json)"
   ]
  },
  {
   "cell_type": "code",
   "execution_count": null,
   "metadata": {},
   "outputs": [],
   "source": [
    "fig = px.line_map(animated_df,\n",
    "            lat='latitude',\n",
    "            lon='longitude',\n",
    "            animation_frame='group',\n",
    "            zoom=4,\n",
    "            width=1200,\n",
    "            height=800)"
   ]
  },
  {
   "cell_type": "code",
   "execution_count": null,
   "metadata": {},
   "outputs": [],
   "source": [
    "fig.layout.updatemenus[0].buttons[0].args[1][\"frame\"][\"duration\"] = 2000\n",
    "fig.show()"
   ]
  },
  {
   "cell_type": "code",
   "execution_count": null,
   "metadata": {},
   "outputs": [],
   "source": []
  }
 ],
 "metadata": {
  "kernelspec": {
   "display_name": "venv",
   "language": "python",
   "name": "python3"
  },
  "language_info": {
   "codemirror_mode": {
    "name": "ipython",
    "version": 3
   },
   "file_extension": ".py",
   "mimetype": "text/x-python",
   "name": "python",
   "nbconvert_exporter": "python",
   "pygments_lexer": "ipython3",
   "version": "3.10.2"
  }
 },
 "nbformat": 4,
 "nbformat_minor": 2
}
