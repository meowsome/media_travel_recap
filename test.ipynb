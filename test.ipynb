{
 "cells": [
  {
   "cell_type": "code",
   "execution_count": 1,
   "metadata": {},
   "outputs": [],
   "source": [
    "import requests\n",
    "from datetime import datetime\n",
    "import os\n",
    "import pandas as pd\n",
    "import numpy as np\n",
    "from geopy.distance import geodesic\n",
    "import plotly.express as px"
   ]
  },
  {
   "cell_type": "code",
   "execution_count": 2,
   "metadata": {},
   "outputs": [],
   "source": [
    "base_url = os.getenv(\"IMMICH_BASE_URL\")\n",
    "token = os.getenv(\"IMMICH_TOKEN\")\n",
    "year = os.getenv(\"YEAR\")\n",
    "start_date = f\"{year}-01-01\"\n",
    "end_date = f\"{year}-12-31\"\n",
    "\n",
    "headers = {\"x-api-key\": token}\n",
    "response = requests.get(f\"{base_url}/asset\", headers=headers)"
   ]
  },
  {
   "cell_type": "code",
   "execution_count": null,
   "metadata": {},
   "outputs": [],
   "source": [
    "if response.status_code == 200:\n",
    "    photos = response.json()\n",
    "    print(len(photos))\n",
    "    print(photos[200])\n",
    "    # print(f\"ID: {photos[0]['id']}, File Name: {photos[0]['fileName']}, Date: {photos[0]['uploadDate']}\")\n",
    "else:\n",
    "    print(f\"Error: {response.status_code} - {response.text}\")\n"
   ]
  },
  {
   "cell_type": "code",
   "execution_count": 4,
   "metadata": {},
   "outputs": [],
   "source": [
    "photos_with_metadata = [photo for photo in photos if photo['exifInfo']['latitude'] != None]"
   ]
  },
  {
   "cell_type": "code",
   "execution_count": null,
   "metadata": {},
   "outputs": [],
   "source": [
    "print(f\"{len(photos_with_metadata)}/{len(photos)}\")"
   ]
  },
  {
   "cell_type": "code",
   "execution_count": 6,
   "metadata": {},
   "outputs": [],
   "source": [
    "df = pd.DataFrame(photos_with_metadata)"
   ]
  },
  {
   "cell_type": "code",
   "execution_count": 7,
   "metadata": {},
   "outputs": [],
   "source": [
    "exif_cols = pd.json_normalize(df.exifInfo)\n",
    "df[exif_cols.columns] = exif_cols"
   ]
  },
  {
   "cell_type": "code",
   "execution_count": null,
   "metadata": {},
   "outputs": [],
   "source": [
    "df.columns"
   ]
  },
  {
   "cell_type": "code",
   "execution_count": 9,
   "metadata": {},
   "outputs": [],
   "source": [
    "filtered_df = df[(df['fileCreatedAt'] >= f\"{year}-01-01\") & (df['fileCreatedAt'] <= f\"{year}-12-31\")]"
   ]
  },
  {
   "cell_type": "code",
   "execution_count": 10,
   "metadata": {},
   "outputs": [],
   "source": [
    "filtered_df = filtered_df[['fileCreatedAt', 'latitude', 'longitude', 'city', 'state', 'country']].iloc[::-1]"
   ]
  },
  {
   "cell_type": "code",
   "execution_count": 11,
   "metadata": {},
   "outputs": [],
   "source": [
    "filtered_df['prev_latitude'] = [np.nan] + list(filtered_df['latitude'])[:-1]\n",
    "filtered_df['prev_longitude'] = [np.nan] + list(filtered_df['longitude'])[:-1]"
   ]
  },
  {
   "cell_type": "code",
   "execution_count": null,
   "metadata": {},
   "outputs": [],
   "source": [
    "filtered_df"
   ]
  },
  {
   "cell_type": "code",
   "execution_count": 13,
   "metadata": {},
   "outputs": [],
   "source": [
    "filtered_df['distance_from_prev'] = filtered_df.apply(lambda point: geodesic((point['latitude'], point['longitude']), (point['prev_latitude'], point['prev_longitude'])).km if np.isfinite(point['prev_latitude']) else 0, axis=1)"
   ]
  },
  {
   "cell_type": "code",
   "execution_count": 14,
   "metadata": {},
   "outputs": [],
   "source": [
    "final_df = filtered_df[filtered_df['distance_from_prev'] > 70]"
   ]
  },
  {
   "cell_type": "code",
   "execution_count": null,
   "metadata": {},
   "outputs": [],
   "source": [
    "final_df"
   ]
  },
  {
   "cell_type": "code",
   "execution_count": 16,
   "metadata": {},
   "outputs": [],
   "source": [
    "unique_cities = final_df.groupby(['city', 'state']).ngroups\n",
    "unique_states = final_df['state'].nunique()\n",
    "unique_countries = final_df['country'].nunique()\n",
    "total_distance_traveled = round(final_df['distance_from_prev'].sum(), 2)\n",
    "most_common_state = final_df['state'].mode().item()"
   ]
  },
  {
   "cell_type": "code",
   "execution_count": null,
   "metadata": {},
   "outputs": [],
   "source": [
    "print(f\"{year} Stats\")\n",
    "print(f\"{unique_cities} unique cities\")\n",
    "print(f\"{unique_states} unique states\")\n",
    "print(f\"{unique_countries} unique countries\")\n",
    "print(f\"{total_distance_traveled}km total distance traveled\")\n",
    "print(f\"{most_common_state} is the most visited state\")"
   ]
  },
  {
   "cell_type": "code",
   "execution_count": 105,
   "metadata": {},
   "outputs": [],
   "source": [
    "i = 0\n",
    "group = 0\n",
    "animated_json = {'latitude': [], 'longitude': [], 'fileCreatedAt': [], 'city': [], 'state': [], 'country': [], 'group': []}\n",
    "for index, row in final_df.iterrows():\n",
    "    animated_json['latitude'].append(row['latitude'])\n",
    "    animated_json['longitude'].append(row['longitude'])\n",
    "    animated_json['fileCreatedAt'].append(row['fileCreatedAt'])\n",
    "    animated_json['city'].append(row['city'])\n",
    "    animated_json['state'].append(row['state'])\n",
    "    animated_json['country'].append(row['country'])\n",
    "    animated_json['group'].append(group)\n",
    "\n",
    "    if i > 0 and i < len(final_df) - 1:\n",
    "        group+=1\n",
    "        animated_json['latitude'].append(row['latitude'])\n",
    "        animated_json['longitude'].append(row['longitude'])\n",
    "        animated_json['fileCreatedAt'].append(row['fileCreatedAt'])\n",
    "        animated_json['city'].append(row['city'])\n",
    "        animated_json['state'].append(row['state'])\n",
    "        animated_json['country'].append(row['country'])\n",
    "        animated_json['group'].append(group)\n",
    "\n",
    "    i+=1\n",
    "    \n"
   ]
  },
  {
   "cell_type": "code",
   "execution_count": null,
   "metadata": {},
   "outputs": [],
   "source": [
    "animated_df = pd.DataFrame(animated_json)"
   ]
  },
  {
   "cell_type": "code",
   "execution_count": 122,
   "metadata": {},
   "outputs": [],
   "source": [
    "fig = px.line_map(animated_df,\n",
    "            lat='latitude',\n",
    "            lon='longitude',\n",
    "            animation_frame='group',\n",
    "            zoom=4,\n",
    "            width=1200,\n",
    "            height=800)"
   ]
  },
  {
   "cell_type": "code",
   "execution_count": null,
   "metadata": {},
   "outputs": [],
   "source": [
    "fig.layout.updatemenus[0].buttons[0].args[1][\"frame\"][\"duration\"] = 2000\n",
    "fig.show()"
   ]
  }
 ],
 "metadata": {
  "kernelspec": {
   "display_name": "Python 3",
   "language": "python",
   "name": "python3"
  },
  "language_info": {
   "codemirror_mode": {
    "name": "ipython",
    "version": 3
   },
   "file_extension": ".py",
   "mimetype": "text/x-python",
   "name": "python",
   "nbconvert_exporter": "python",
   "pygments_lexer": "ipython3",
   "version": "3.10.2"
  }
 },
 "nbformat": 4,
 "nbformat_minor": 2
}
